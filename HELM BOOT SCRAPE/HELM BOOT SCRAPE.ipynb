{
 "cells": [
  {
   "cell_type": "code",
   "execution_count": 1,
   "metadata": {},
   "outputs": [],
   "source": [
    "import requests\n",
    "import json\n",
    "import pandas as pd"
   ]
  },
  {
   "cell_type": "code",
   "execution_count": 2,
   "metadata": {},
   "outputs": [],
   "source": [
    "url='https://helmboots.com/products.json?limit=250&page=1'"
   ]
  },
  {
   "cell_type": "code",
   "execution_count": 3,
   "metadata": {},
   "outputs": [],
   "source": [
    "r= requests.get(url)"
   ]
  },
  {
   "cell_type": "code",
   "execution_count": 8,
   "metadata": {},
   "outputs": [],
   "source": [
    "data=r.json()\n",
    "product_list=[]"
   ]
  },
  {
   "cell_type": "code",
   "execution_count": 9,
   "metadata": {},
   "outputs": [
    {
     "name": "stdout",
     "output_type": "stream",
     "text": [
      "saved to file\n"
     ]
    }
   ],
   "source": [
    "for item in data['products']:\n",
    "    title=item['title']\n",
    "    handle=item['handle']\n",
    "    created=item['created_at']\n",
    "    product_type=item['product_type']\n",
    "    \n",
    "    for image in item['images']:\n",
    "        try:\n",
    "            imagesrc=image['src']\n",
    "        except:\n",
    "            imagesrc='None'\n",
    "        \n",
    "    for variant in item['variants']:\n",
    "        price=variant['price']\n",
    "        sku=variant['sku']\n",
    "        available=variant['available']\n",
    "    \n",
    "    product = {\n",
    "    'title':title,\n",
    "    'handle':handle,\n",
    "    'created':created,\n",
    "    'product_type':product_type,\n",
    "    'price':price,\n",
    "    'sku':sku,\n",
    "    'available':available,\n",
    "    'image':imagesrc\n",
    "     }\n",
    "    product_list.append(product)\n",
    "df=pd.DataFrame(product_list)\n",
    "df.to_csv('testrun.csv')\n",
    "print('saved to file')\n",
    "        \n",
    "        \n",
    "    "
   ]
  },
  {
   "cell_type": "code",
   "execution_count": null,
   "metadata": {},
   "outputs": [],
   "source": []
  },
  {
   "cell_type": "code",
   "execution_count": null,
   "metadata": {},
   "outputs": [],
   "source": []
  },
  {
   "cell_type": "code",
   "execution_count": null,
   "metadata": {},
   "outputs": [],
   "source": []
  }
 ],
 "metadata": {
  "kernelspec": {
   "display_name": "Python 3",
   "language": "python",
   "name": "python3"
  },
  "language_info": {
   "codemirror_mode": {
    "name": "ipython",
    "version": 3
   },
   "file_extension": ".py",
   "mimetype": "text/x-python",
   "name": "python",
   "nbconvert_exporter": "python",
   "pygments_lexer": "ipython3",
   "version": "3.7.6"
  }
 },
 "nbformat": 4,
 "nbformat_minor": 4
}
