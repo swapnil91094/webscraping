{
 "cells": [
  {
   "cell_type": "code",
   "execution_count": 4,
   "metadata": {},
   "outputs": [
    {
     "name": "stdout",
     "output_type": "stream",
     "text": [
      "Saved to CSV\n"
     ]
    }
   ],
   "source": [
    "import requests\n",
    "from bs4 import BeautifulSoup\n",
    "import pandas as pd\n",
    "\n",
    "searchterm = 'shure+sm7b'\n",
    "\n",
    "def get_data(searchterm):\n",
    "    url = f'https://www.ebay.co.uk/sch/i.html?_from=R40&_nkw={searchterm}&_sacat=0&LH_PrefLoc=1&LH_Auction=1&rt=nc&LH_Sold=1&LH_Complete=1'\n",
    "    r = requests.get(url)\n",
    "    soup = BeautifulSoup(r.text, 'html.parser')\n",
    "    return soup\n",
    "\n",
    "def parse(soup):\n",
    "    productslist = []\n",
    "    results = soup.find_all('div', {'class': 's-item__info clearfix'})\n",
    "    for item in results:\n",
    "        product = {\n",
    "            'title': item.find('h3', {'class': 's-item__title s-item__title--has-tags'}).text,\n",
    "            'soldprice': float(item.find('span', {'class': 's-item__price'}).text.replace('£','').replace(',','').strip()),\n",
    "            'solddate': item.find('span', {'class': 's-item__title--tagblock__COMPLETED'}).find('span', {'class':'POSITIVE'}).text,\n",
    "            'bids': item.find('span', {'class': 's-item__bids'}).text,\n",
    "            'link': item.find('a', {'class': 's-item__link'})['href'],\n",
    "        }\n",
    "        productslist.append(product)\n",
    "    return productslist\n",
    "\n",
    "def output(productslist, searchterm):\n",
    "    productsdf =  pd.DataFrame(productslist)\n",
    "    productsdf.to_csv(searchterm + 'output.csv', index=False)\n",
    "    print('Saved to CSV')\n",
    "    return\n",
    "\n",
    "soup = get_data(searchterm)\n",
    "productslist = parse(soup)\n",
    "output(productslist, searchterm)"
   ]
  },
  {
   "cell_type": "code",
   "execution_count": null,
   "metadata": {},
   "outputs": [],
   "source": []
  }
 ],
 "metadata": {
  "kernelspec": {
   "display_name": "Python 3",
   "language": "python",
   "name": "python3"
  },
  "language_info": {
   "codemirror_mode": {
    "name": "ipython",
    "version": 3
   },
   "file_extension": ".py",
   "mimetype": "text/x-python",
   "name": "python",
   "nbconvert_exporter": "python",
   "pygments_lexer": "ipython3",
   "version": "3.7.6"
  }
 },
 "nbformat": 4,
 "nbformat_minor": 4
}
